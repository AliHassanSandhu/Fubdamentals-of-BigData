{
  "nbformat": 4,
  "nbformat_minor": 0,
  "metadata": {
    "colab": {
      "provenance": []
    },
    "kernelspec": {
      "name": "python3",
      "display_name": "Python 3"
    },
    "language_info": {
      "name": "python"
    }
  },
  "cells": [
    {
      "cell_type": "code",
      "source": [
        "!pip install pyspark"
      ],
      "metadata": {
        "colab": {
          "base_uri": "https://localhost:8080/"
        },
        "id": "owAoGviyK_9q",
        "outputId": "b0107684-3957-484a-9126-1355e32186dc"
      },
      "execution_count": 1,
      "outputs": [
        {
          "output_type": "stream",
          "name": "stdout",
          "text": [
            "Looking in indexes: https://pypi.org/simple, https://us-python.pkg.dev/colab-wheels/public/simple/\n",
            "Collecting pyspark\n",
            "  Downloading pyspark-3.4.0.tar.gz (310.8 MB)\n",
            "\u001b[2K     \u001b[90m━━━━━━━━━━━━━━━━━━━━━━━━━━━━━━━━━━━━━━━\u001b[0m \u001b[32m310.8/310.8 MB\u001b[0m \u001b[31m3.7 MB/s\u001b[0m eta \u001b[36m0:00:00\u001b[0m\n",
            "\u001b[?25h  Preparing metadata (setup.py) ... \u001b[?25l\u001b[?25hdone\n",
            "Requirement already satisfied: py4j==0.10.9.7 in /usr/local/lib/python3.10/dist-packages (from pyspark) (0.10.9.7)\n",
            "Building wheels for collected packages: pyspark\n",
            "  Building wheel for pyspark (setup.py) ... \u001b[?25l\u001b[?25hdone\n",
            "  Created wheel for pyspark: filename=pyspark-3.4.0-py2.py3-none-any.whl size=311317130 sha256=a3d864a9b8458f5f8e6d5fbdc22478ad45a6d9aa44d2a3f57cb5b98a6314219f\n",
            "  Stored in directory: /root/.cache/pip/wheels/7b/1b/4b/3363a1d04368e7ff0d408e57ff57966fcdf00583774e761327\n",
            "Successfully built pyspark\n",
            "Installing collected packages: pyspark\n",
            "Successfully installed pyspark-3.4.0\n"
          ]
        }
      ]
    },
    {
      "cell_type": "code",
      "source": [
        "from pyspark import SparkConf,SparkContext"
      ],
      "metadata": {
        "id": "heoy3HVp3OMu"
      },
      "execution_count": 2,
      "outputs": []
    },
    {
      "cell_type": "code",
      "source": [
        "conf=SparkConf().setAppName(\"Assignment 3\").setMaster(\"local[*]\")\n",
        "sc=SparkContext(conf=conf)"
      ],
      "metadata": {
        "id": "S6BSAW673U6p"
      },
      "execution_count": 3,
      "outputs": []
    },
    {
      "cell_type": "markdown",
      "source": [
        "##Q1\n"
      ],
      "metadata": {
        "id": "fzIlO0fR3vex"
      }
    },
    {
      "cell_type": "code",
      "source": [
        "def number_of_consecutive(line):\n",
        "  d={}\n",
        "  count=0\n",
        "  comb={}\n",
        "  for i in range(len(line)-2):\n",
        "    if len(line[i]) >= 4 and len(line[i+1]) >= 4 and len(line[i+2]) >= 4:\n",
        "      if line[i][0].lower() == line[i+1][0].lower() == line[i+2][0].lower():\n",
        "         # Part a)\n",
        "        count += 1  \n",
        "\n",
        "        # Part b)\n",
        "        letter=line[i][0]  \n",
        "        if letter.upper() in d:\n",
        "          d[letter.upper()] += 1\n",
        "        else:\n",
        "          d[letter.upper()]=1  \n",
        "         \n",
        "        # Part c) \n",
        "        key=(line[i],line[i+1],line[i+2])   \n",
        "        if key in comb:\n",
        "          comb[key] +=1\n",
        "        else:\n",
        "          comb[key] =1\n",
        " \n",
        "  return count,d,comb   \n",
        "\n",
        "file_rdd = sc.textFile(\"q1.txt\").flatMap(lambda x: x.split())\n",
        "file_rdd = file_rdd.map(lambda word: [word]).reduce(lambda a, b: a + b)\n",
        "count,dic,combination = number_of_consecutive(file_rdd)\n",
        "print(f\"Total Count = {count}\")\n",
        "for i,j in dic.items():\n",
        "   print(f\"{i} => {j}\")\n",
        "for i,j in combination.items():\n",
        "  print(f\"{i} => {j}\")\n"
      ],
      "metadata": {
        "colab": {
          "base_uri": "https://localhost:8080/"
        },
        "id": "fyD4AW7Sf432",
        "outputId": "02321b44-0021-4c4d-94af-8958e422dea9"
      },
      "execution_count": 60,
      "outputs": [
        {
          "output_type": "stream",
          "name": "stdout",
          "text": [
            "Total Count = 8\n",
            "H => 3\n",
            "M => 1\n",
            "S => 1\n",
            "D => 2\n",
            "F => 1\n",
            "('Horrid', 'Henry’s', 'hound') => 2\n",
            "('Henry’s', 'hound', 'hunts') => 1\n",
            "('massive', 'Murree', 'mountains.') => 1\n",
            "('silly', 'stupid', 'Samuel’s') => 1\n",
            "('dark', 'dreadful', 'dragon') => 1\n",
            "('dreadful', 'dragon', 'Dany') => 1\n",
            "('fantastic', 'fanciful', 'foursome.') => 1\n"
          ]
        }
      ]
    },
    {
      "cell_type": "markdown",
      "source": [
        "###Q2"
      ],
      "metadata": {
        "id": "o1F-VjRLnxKc"
      }
    },
    {
      "cell_type": "code",
      "source": [
        "def split(l):\n",
        "  return l[0],l[2:]\n",
        "\n",
        "def split2(l):\n",
        "  return l[0:2],l[3:]\n",
        "\n",
        "def Simple_matching_cofficient(list1,list2):\n",
        "    m11=0\n",
        "    m00=0\n",
        "    m01=0\n",
        "    m10=0\n",
        "\n",
        "    for (i,j) in zip(list1,list2):\n",
        "      if i==1 and j==1:\n",
        "        m11 += 1\n",
        "      elif i==0 and j==0:\n",
        "        m00 += 1\n",
        "      elif i==0 and j==1:\n",
        "        m01 += 1\n",
        "      elif i==1 and j==0:\n",
        "        m10 += 1\n",
        "    SMC=(m11+m00)/(m11+m00+m10+m01)\n",
        "    return SMC\n",
        "\n",
        "def fun1(l):\n",
        "    li=[]\n",
        "    for i in l:\n",
        "      if i==\" \":\n",
        "        continue\n",
        "      else:\n",
        "        li.append(int(i))  \n",
        "    return li \n",
        "\n",
        "\n",
        "   \n",
        "def question2(line,words):\n",
        "\n",
        "    a=[]\n",
        "    b=[]\n",
        "    c=[]\n",
        "    list1=[]\n",
        "    list2=[]\n",
        "\n",
        "    for i in line:\n",
        "\n",
        "      a=split(i)\n",
        "      list1=fun1(a[1])\n",
        "\n",
        "      for j in words:\n",
        "        b=split2(j)\n",
        "        list2=fun1(b[1])\n",
        "        d=Simple_matching_cofficient(list1,list2)\n",
        "        c.append(d)\n",
        "\n",
        "      if c[0] >= c[1]:\n",
        "        print(a[0],\"=> R1\" )  \n",
        "      else:\n",
        "        print(a[0],\"=> R2\" )\n",
        "\n",
        "      c.clear()   \n",
        "\n",
        "input=sc.textFile(\"input.txt\")\n",
        "reference=sc.textFile(\"refrence.txt\")\n",
        "input= input.map(lambda word: [word]).reduce(lambda a, b: a + b)\n",
        "reference= reference.map(lambda word: [word]).reduce(lambda a, b: a + b)\n",
        "output=question2(input,reference)      \n",
        "    "
      ],
      "metadata": {
        "colab": {
          "base_uri": "https://localhost:8080/"
        },
        "id": "oBxEQrvEnBIx",
        "outputId": "a838aa6e-39b5-408b-bce7-0c8523dc6afa"
      },
      "execution_count": 61,
      "outputs": [
        {
          "output_type": "stream",
          "name": "stdout",
          "text": [
            "1 => R1\n",
            "2 => R1\n",
            "3 => R1\n",
            "4 => R2\n"
          ]
        }
      ]
    },
    {
      "cell_type": "markdown",
      "source": [
        "##Q3\n"
      ],
      "metadata": {
        "id": "zMwMRSj3Wp6H"
      }
    },
    {
      "cell_type": "code",
      "source": [
        "author = sc.textFile(\"author.txt\")\n",
        "co_author = author.map(lambda line: line.split('->'))\n",
        "common_coauthor = co_author.map(lambda x: (x[1], x[0])).distinct().groupByKey().mapValues(lambda x: len(x))\n",
        "\n",
        "for author, count in common_coauthor.collect():\n",
        "    row = common_coauthor.filter(lambda x: x[0] == author).first()\n",
        "    print(f\"{author} ({count}): {row[1]}\")\n"
      ],
      "metadata": {
        "colab": {
          "base_uri": "https://localhost:8080/"
        },
        "id": "Y_7_Pbu1OfY2",
        "outputId": "11f4f283-770d-4f54-94f8-bc3160788c53"
      },
      "execution_count": 67,
      "outputs": [
        {
          "output_type": "stream",
          "name": "stdout",
          "text": [
            " B. Cao, C. Rego, F. Glover, K. Kiani (1): 1\n",
            " B. Cao, Y. Lu (2): 2\n",
            " K. Kiani (1): 1\n",
            " C. Rego, F. Glover, K. Kiani, Y. Lu (1): 1\n",
            " B. Hosseini, B. Cao, Y. Lu (1): 1\n"
          ]
        }
      ]
    }
  ]
}